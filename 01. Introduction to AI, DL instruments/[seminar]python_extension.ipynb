{
 "cells": [
  {
   "cell_type": "markdown",
   "metadata": {
    "colab_type": "text",
    "id": "Stge820q2d1d"
   },
   "source": [
    "<h2 style=\"text-align: center;\"><b>Python. Занятие 1: Дополнение</b></h2>"
   ]
  },
  {
   "cell_type": "markdown",
   "metadata": {
    "colab_type": "text",
    "id": "7XQ42g-z2d1j"
   },
   "source": [
    "<img align=left src=\"https://cdn.fedoramagazine.org/wp-content/uploads/2015/11/Python_logo.png\" style=\"height:160px;\" />\n",
    "\n",
    "<img align=center src=\"https://1.bp.blogspot.com/-16utHnlB3Ao/V4tpG8NBX0I/AAAAAAAAA7M/vDQ1p40JpE8M34eCr-UdriSV04Dn8au7QCLcB/s1600/jupyter-logo.png\" style=\"height:90px;\" />"
   ]
  },
  {
   "cell_type": "markdown",
   "metadata": {
    "colab_type": "text",
    "id": "l8V2fdfy2d1m"
   },
   "source": [
    "Этот ноутбук -- дополнение к python_basics.ipynb. Здесь разобраны некоторые полезные конструкции и функции языка Python. Опять же, ноутбук не претендует на охват всех возможностей языка!"
   ]
  },
  {
   "cell_type": "markdown",
   "metadata": {
    "colab_type": "text",
    "id": "s6H55PRg2d1p"
   },
   "source": [
    "### list comprehensions"
   ]
  },
  {
   "cell_type": "markdown",
   "metadata": {
    "colab_type": "text",
    "id": "myYtvrEH2d1r"
   },
   "source": [
    "<img align=center src=\"http://images7.memedroid.com/images/UPLOADED973/596e4c96650e5.jpeg\" style=\"height:400px;\"/>"
   ]
  },
  {
   "cell_type": "markdown",
   "metadata": {
    "colab_type": "text",
    "id": "81c3upgh2d1t"
   },
   "source": [
    "Давайте зададимся вопросом: как создать массив с числами от 1 до 100, которые делятся на 5?\n",
    "\n",
    "* Решение 1:\n",
    "\n",
    "```\n",
    "mas = []\n",
    "for i in range(100):\n",
    "    if i % 5 == 0:\n",
    "        mas.append(i)\n",
    "```\n",
    "\n",
    "Это довольно долго писать и в коде выглядит некомпактно.\n",
    "\n",
    "* Решение 2:"
   ]
  },
  {
   "cell_type": "code",
   "execution_count": 1,
   "metadata": {
    "colab": {},
    "colab_type": "code",
    "id": "nd6jZWAl2d1v"
   },
   "outputs": [
    {
     "data": {
      "text/plain": [
       "[0, 5, 10, 15, 20, 25, 30, 35, 40, 45, 50, 55, 60, 65, 70, 75, 80, 85, 90, 95]"
      ]
     },
     "execution_count": 1,
     "metadata": {},
     "output_type": "execute_result"
    }
   ],
   "source": [
    "mas = [x for x in range(100) if x%5==0]\n",
    "mas"
   ]
  },
  {
   "cell_type": "markdown",
   "metadata": {
    "colab_type": "text",
    "id": "MUL5tuNP2d10"
   },
   "source": [
    "Здесь код записан так, что его можно легко можно прочитать на естественном языке: \n",
    "\n",
    "\" положи в массив mas такие числа х из отрезка [0, 100], что х делится на 5\""
   ]
  },
  {
   "cell_type": "markdown",
   "metadata": {
    "colab_type": "text",
    "id": "m1vuSXH_2d12"
   },
   "source": [
    "Таким же образом можно записывать в питоне многие другие конструкции такого типа. Вот примеры еще нескольких:"
   ]
  },
  {
   "cell_type": "code",
   "execution_count": 3,
   "metadata": {
    "colab": {},
    "colab_type": "code",
    "id": "b0Keh_lR2d13"
   },
   "outputs": [
    {
     "data": {
      "text/plain": [
       "['even', 'odd', 'even', 'odd', 'even', 'odd', 'even', 'odd', 'even', 'odd']"
      ]
     },
     "execution_count": 3,
     "metadata": {},
     "output_type": "execute_result"
    }
   ],
   "source": [
    "# массив квадратов чисел от 0 до 9\n",
    "mas = [x**2 for x in range(10)]\n",
    "\n",
    "# массив, на нечетных индексах которого находятся слова \"odd\", а четных -- \"even\"\n",
    "mas = [\"odd\" if x%2==1 else \"even\" for x in range(10)]\n",
    "mas"
   ]
  },
  {
   "cell_type": "markdown",
   "metadata": {
    "colab_type": "text",
    "id": "1dN6iNkD2d17"
   },
   "source": [
    "Так же можно создавать словари:"
   ]
  },
  {
   "cell_type": "code",
   "execution_count": 4,
   "metadata": {
    "colab": {},
    "colab_type": "code",
    "id": "EVl9tRRU2d19"
   },
   "outputs": [
    {
     "data": {
      "text/plain": [
       "{'zero': 0, 'first': 1, 'second': 2}"
      ]
     },
     "execution_count": 4,
     "metadata": {},
     "output_type": "execute_result"
    }
   ],
   "source": [
    "d = {word: i for i, word in enumerate([\"zero\", \"first\", \"second\"])}\n",
    "d"
   ]
  },
  {
   "cell_type": "markdown",
   "metadata": {
    "colab_type": "text",
    "id": "6gAv4fNm2d2B"
   },
   "source": [
    "### Задание 1\n",
    "\n",
    "Пусть есть массив mas. С помощью list comprehensions создайте второй массив, где на четных индексах будут находиться соответствующие элементы массива mas, умноженные на 10, а на нечетных индексах -- единицы\n",
    "\n"
   ]
  },
  {
   "cell_type": "code",
   "execution_count": 7,
   "metadata": {
    "colab": {},
    "colab_type": "code",
    "id": "zkMjCQtL2d2C"
   },
   "outputs": [
    {
     "data": {
      "text/plain": [
       "[0, 1, 20, 1, 40, 1, 60, 1, 80, 1]"
      ]
     },
     "execution_count": 7,
     "metadata": {},
     "output_type": "execute_result"
    }
   ],
   "source": [
    "# your code here\n",
    "mas=[x for x in (range(10))]\n",
    "mas2=[1 if index%2==1 else x*10 for index, x in enumerate(mas)]\n",
    "mas2"
   ]
  },
  {
   "cell_type": "markdown",
   "metadata": {
    "colab_type": "text",
    "id": "EvsoTGB72d2E"
   },
   "source": [
    "---------------"
   ]
  },
  {
   "cell_type": "markdown",
   "metadata": {
    "colab_type": "text",
    "id": "N6Ns0rB52d2F"
   },
   "source": [
    "### functions, lambdas"
   ]
  },
  {
   "cell_type": "markdown",
   "metadata": {
    "colab_type": "text",
    "id": "MnASYznX2d2G"
   },
   "source": [
    "**функции**"
   ]
  },
  {
   "cell_type": "markdown",
   "metadata": {
    "colab_type": "text",
    "id": "MtrFRSQA2d2H"
   },
   "source": [
    "Это такие объекты в питоне, которые принимают некоторые параметры (переменные), исполняют некоторый код внутри себя и, возможно, возвращают некоторое значение. \n",
    "\n",
    "Рассмотрим баристу в кофейне. Он -- \"функция\", которая умеет делать кофе. В качестве параметров вы говорите ему размер стакана кофе, который хотите получить и количество сахара, которое туда положить. Далее бариста делает вам кофе и отдает его вам. \n",
    "\n",
    "В питоновском коде это можно записать примерно так:"
   ]
  },
  {
   "cell_type": "code",
   "execution_count": 14,
   "metadata": {
    "colab": {},
    "colab_type": "code",
    "id": "8tIsKz772d2I"
   },
   "outputs": [
    {
     "data": {
      "text/plain": [
       "'Done: cup of 180 ml size; amount of sugar = 3'"
      ]
     },
     "execution_count": 14,
     "metadata": {},
     "output_type": "execute_result"
    }
   ],
   "source": [
    "def make_coffee(size, sugar_dose=3):\n",
    "    if sugar_dose > 5:\n",
    "        return 'Too much sugar! Be careful! :('\n",
    "    else:\n",
    "        return 'Done: cup of {0} ml size; amount of sugar = {1}'.format(size, sugar_dose)\n",
    "make_coffee(180)\n"
   ]
  },
  {
   "cell_type": "markdown",
   "metadata": {
    "colab_type": "text",
    "id": "-3PhpyuG2d2L"
   },
   "source": [
    "То есть, чтобы определить функцию, нужно написать ключевое слово `def`, далее название функции и в круглых скобочках список параметров, которые она принимает. Далее после двоеточия со следующей строки идет тело функции -- тот код, который функция выполняет. Код функции пишется с отступом в 4 пробела от уровня `def`"
   ]
  },
  {
   "cell_type": "markdown",
   "metadata": {
    "colab_type": "text",
    "id": "XyacAiPW2d2N"
   },
   "source": [
    "Давайте, например, напишем функцию, которая принимает переменную x и вычисляет $x^2$"
   ]
  },
  {
   "cell_type": "code",
   "execution_count": 15,
   "metadata": {
    "colab": {},
    "colab_type": "code",
    "id": "eLjDjEUM2d2O"
   },
   "outputs": [
    {
     "data": {
      "text/plain": [
       "25"
      ]
     },
     "execution_count": 15,
     "metadata": {},
     "output_type": "execute_result"
    }
   ],
   "source": [
    "def square(x):\n",
    "    y = x**2\n",
    "    return y\n",
    "\n",
    "square(5)"
   ]
  },
  {
   "cell_type": "markdown",
   "metadata": {
    "colab_type": "text",
    "id": "MoXtVj-t2d2R"
   },
   "source": [
    "Существует еще один способ записи функций -- **lambda**-выражения. С использованием них наша функция square выше выглядела бы так:"
   ]
  },
  {
   "cell_type": "code",
   "execution_count": 0,
   "metadata": {
    "colab": {},
    "colab_type": "code",
    "id": "1gN72_E92d2S"
   },
   "outputs": [],
   "source": [
    "square = lambda x: x**2\n",
    "\n",
    "square(5)"
   ]
  },
  {
   "cell_type": "markdown",
   "metadata": {
    "colab_type": "text",
    "id": "vKExTFca2d2W"
   },
   "source": [
    "Чтобы записать функцию в виде lambda, нужно написать ключевое слово lambda, после список переменных, которые функция принимает (в нашем случае это x), а затем после ':' -- возвращаемое функцией значение.   "
   ]
  },
  {
   "cell_type": "markdown",
   "metadata": {
    "colab_type": "text",
    "id": "IUYJlUDf2d2X"
   },
   "source": [
    "Такой способ записи короче, но менее читабельный. Не нужно использовать его везде. Есть моменты, в которых он удобен, например, при задании ключа при сортировке (об этом ниже в этом ноутбуке), то етсь, когда вам нужно **передать функцию в другую функцию**"
   ]
  },
  {
   "cell_type": "markdown",
   "metadata": {
    "colab_type": "text",
    "id": "3V0KEBtp8qs9"
   },
   "source": [
    "--------------"
   ]
  },
  {
   "cell_type": "markdown",
   "metadata": {
    "colab_type": "text",
    "id": "ZaJTlEtC2d2Y"
   },
   "source": [
    "### Задание 2\n",
    "\n",
    "Напишите функцию, которая принимает массив и индекс i и возвращает произведение всех элементов массива, находящийхся на этом индексах от 0 до i"
   ]
  },
  {
   "cell_type": "code",
   "execution_count": 97,
   "metadata": {
    "colab": {},
    "colab_type": "code",
    "id": "mDCk7UMa2d2Z"
   },
   "outputs": [
    {
     "name": "stdout",
     "output_type": "stream",
     "text": [
      "Выполнение функции mass_mult:\n",
      "\n",
      "Длина массива = 9 ; Индекс = 8\n",
      "\n",
      "Значение массива по индексу 1 - 56\n",
      "Значение массива по индексу 2 - 2\n",
      "Значение массива по индексу 3 - 3\n",
      "Значение массива по индексу 4 - 44\n",
      "Значение массива по индексу 5 - 5\n",
      "Значение массива по индексу 6 - 6\n",
      "Значение массива по индексу 7 - 7\n",
      "Значение массива по индексу 8 - 256\n",
      "\n",
      "Произведение элементов массива от 1 до 8 - 794787840\n",
      "\n",
      "Массив - [56, 2, 3, 44, 5, 6, 7, 256, 445]\n",
      "Индекс - 8\n"
     ]
    }
   ],
   "source": [
    "# your code here\n",
    "def mass_mult(mas=[], index=0):\n",
    "    print(\"Выполнение функции mass_mult:\")\n",
    "    print()\n",
    "    print('Длина массива =', len(mas),\";\", \"Индекс =\", index)\n",
    "    print()\n",
    "    if index > len(mas):\n",
    "        print(\"Индекс превышает длину массива. Выполение функции прервано.\")\n",
    "    else:\n",
    "        m=1 \n",
    "        i=0\n",
    "        while i <= index-1: \n",
    "            print(\"Значение массива по индексу\", i+1 , \"-\", mas[i])\n",
    "            m = m*(mas[i])\n",
    "            i += 1\n",
    "        print()\n",
    "        print(\"Произведение элементов массива от 1 до\", index, \"-\", m)\n",
    "        print()\n",
    "        print(\"Массив -\", mas)\n",
    "        print(\"Индекс -\", index)\n",
    "\n",
    "mass_mult([56,2,3,44,5,6,7,256,445],8)\n",
    "\n",
    "\n"
   ]
  },
  {
   "cell_type": "markdown",
   "metadata": {
    "colab_type": "text",
    "id": "V9DgiraX2d2d"
   },
   "source": [
    "------------------"
   ]
  },
  {
   "cell_type": "markdown",
   "metadata": {
    "colab_type": "text",
    "id": "AEP_z6nS8uzF"
   },
   "source": [
    "### Print"
   ]
  },
  {
   "cell_type": "markdown",
   "metadata": {
    "colab_type": "text",
    "id": "KvGSpU2-8xB4"
   },
   "source": [
    "`print(x)`, как известно, выводит на экран содержимое переменной x и далее перевод строки ('\\n'). Но что если мы не хотим, чтобы после вывода x выводился перевод строки? Например, если мы выводим целые числа от 1 до 100 в цикле и не хотим, чтобы каждое число выводилось на новой строке, а, например, хотим вывести их все через пробел.\n",
    "\n",
    "Для этого в print  можно передать аргумент end со значением, которое вы хотите, чтобы выводилось после вывода х:"
   ]
  },
  {
   "cell_type": "code",
   "execution_count": 98,
   "metadata": {
    "colab": {},
    "colab_type": "code",
    "id": "ege7qvE59Yvs"
   },
   "outputs": [
    {
     "name": "stdout",
     "output_type": "stream",
     "text": [
      "123456789"
     ]
    }
   ],
   "source": [
    "for i in range(1, 10):\n",
    "  # после i будет выводиться пустая строка\n",
    "  # т.е. все числа от 1 до 9 выведутся слитно\n",
    "  print(i, end='')"
   ]
  },
  {
   "cell_type": "code",
   "execution_count": 99,
   "metadata": {
    "colab": {},
    "colab_type": "code",
    "id": "5FFIt2BV9jOZ"
   },
   "outputs": [
    {
     "name": "stdout",
     "output_type": "stream",
     "text": [
      "1 2 3 4 5 6 7 8 9 "
     ]
    }
   ],
   "source": [
    "for i in range(1, 10):\n",
    "  # после i будет выводиться пробел\n",
    "  # т.е. все числа от 1 до 9 выведутся через пробел\n",
    "  print(i, end=' ')"
   ]
  },
  {
   "cell_type": "code",
   "execution_count": 100,
   "metadata": {
    "colab": {},
    "colab_type": "code",
    "id": "jgX6babr9m1m"
   },
   "outputs": [
    {
     "name": "stdout",
     "output_type": "stream",
     "text": [
      "1|2|3|4|5|6|7|8|9|"
     ]
    }
   ],
   "source": [
    "for i in range(1, 10):\n",
    "  # заметьте, что после последнего числа разделитель тоже вывелся\n",
    "  print(i, end='|')"
   ]
  },
  {
   "cell_type": "markdown",
   "metadata": {
    "colab_type": "text",
    "id": "VyZMMeIr2d2e"
   },
   "source": [
    "### map, filter"
   ]
  },
  {
   "cell_type": "markdown",
   "metadata": {
    "colab_type": "text",
    "id": "DLRxJkIF2d2f"
   },
   "source": [
    "Функция **map(func, iterable)** - выполняет преобразование func над элементами iterable и возвращает новый iterable.\n",
    "\n",
    "Проще говоря, func -- это функция, которая принимает элемент того же типа, что элементы iterable, и возвращает некий элемент (возможно, другого типа). iterable -- некоторый iterable элементов (list, tuple, ...). \n",
    "\n",
    "Пример:"
   ]
  },
  {
   "cell_type": "code",
   "execution_count": 102,
   "metadata": {
    "colab": {},
    "colab_type": "code",
    "id": "dFqQP8K42d2f"
   },
   "outputs": [],
   "source": [
    "words = ['I', 'am', 'iterable', 'of', 'words']"
   ]
  },
  {
   "cell_type": "code",
   "execution_count": 103,
   "metadata": {
    "colab": {},
    "colab_type": "code",
    "id": "dczQm2uE2d2j"
   },
   "outputs": [
    {
     "name": "stdout",
     "output_type": "stream",
     "text": [
      "['I', 'am', 'iterable', 'of', 'words']\n",
      "\n",
      "[1, 2, 8, 2, 5]\n"
     ]
    }
   ],
   "source": [
    "letter_counts = list(map(lambda x: len(x), words))\n",
    "\n",
    "print(words)\n",
    "print()\n",
    "print(letter_counts)"
   ]
  },
  {
   "cell_type": "markdown",
   "metadata": {
    "colab_type": "text",
    "id": "x2_JuQNU2d2n"
   },
   "source": [
    "Также на место iterable можно поставить сразу несколько iterable -- например, 3 list'a. Тогда функция func должны принимать стлько аргументов, сколько iterable вы передаете, а возвращать все равно один. В func в качестве параметров будут передаваться по одному элементу из каждого iterable.\n",
    "\n",
    "Пример:"
   ]
  },
  {
   "cell_type": "code",
   "execution_count": 104,
   "metadata": {
    "colab": {},
    "colab_type": "code",
    "id": "G3juNWvH2d2o"
   },
   "outputs": [
    {
     "name": "stdout",
     "output_type": "stream",
     "text": [
      "[113, 116, 119]\n"
     ]
    }
   ],
   "source": [
    "list1 = [1,2,3,4]\n",
    "list2 = [11, 12, 13, 14, 15]\n",
    "list3 = [101, 102, 103]\n",
    "\n",
    "triple_sum = list(map(lambda x, y, z: x + y + z, list1, list2, list3))\n",
    "print(triple_sum)"
   ]
  },
  {
   "cell_type": "markdown",
   "metadata": {
    "colab_type": "text",
    "id": "KV55a46Y2d2q"
   },
   "source": [
    "**filter(predicate, iterable)** - оставляет только те элементы из iterable, для которых верен предикат predicate (предикат -- это функция, возвращающая значение типа bool. filter оставляет только те значения x из iterable, для которых predicate(x)==True):"
   ]
  },
  {
   "cell_type": "code",
   "execution_count": 105,
   "metadata": {
    "colab": {},
    "colab_type": "code",
    "id": "vXmqB7tP2d2q"
   },
   "outputs": [
    {
     "name": "stdout",
     "output_type": "stream",
     "text": [
      "['мак', 'мак', 'мак', 'мак', 'мак']\n"
     ]
    }
   ],
   "source": [
    "mixed = ['мак', 'просо', 'мак', 'мак', 'просо', 'мак', 'просо', 'просо', 'просо', 'мак']\n",
    "\n",
    "only_mac = list(filter(lambda x: x == 'мак', mixed))\n",
    "print(only_mac)"
   ]
  },
  {
   "cell_type": "markdown",
   "metadata": {
    "colab_type": "text",
    "id": "XXPAkPSd2d2u"
   },
   "source": [
    "### Задание 3\n",
    "\n",
    "Напишите одну строчку кода, которая из массива целых чисел mas сделает массив, в котором будут числа из массива mas, которые делятся на 3, возведенные в квадрат"
   ]
  },
  {
   "cell_type": "code",
   "execution_count": 127,
   "metadata": {
    "colab": {},
    "colab_type": "code",
    "id": "ht2hqVih2d2u"
   },
   "outputs": [
    {
     "data": {
      "text/plain": [
       "[0,\n",
       " 9,\n",
       " 36,\n",
       " 81,\n",
       " 144,\n",
       " 225,\n",
       " 324,\n",
       " 441,\n",
       " 576,\n",
       " 729,\n",
       " 900,\n",
       " 1089,\n",
       " 1296,\n",
       " 1521,\n",
       " 1764,\n",
       " 2025,\n",
       " 2304]"
      ]
     },
     "execution_count": 127,
     "metadata": {},
     "output_type": "execute_result"
    }
   ],
   "source": [
    "# your code here\n",
    "mas = [x for x in range(50)]\n",
    "newmas = list(map(lambda x: x**2, list(filter(lambda x: x%3==0, mas))))\n",
    "newmas"
   ]
  },
  {
   "cell_type": "markdown",
   "metadata": {
    "colab_type": "text",
    "id": "cglQ6JNB2d2v"
   },
   "source": [
    "### Задание 4\n",
    "\n",
    "Дан массив строк: ['agfkd.,f', 'Qksdf;sb&..', 'asdoo*', 'bgf...d', 're54()kj[]].']\n",
    "\n",
    "Создайте список, состоящий из количества точек в каждой строке. Выведите его\n",
    "Создайте новый список, в котором будут только строки, в которых более 2-х точек. Выведите его.\n",
    "\n",
    "\n",
    "Циклами пользоваться нельзя."
   ]
  },
  {
   "cell_type": "code",
   "execution_count": 143,
   "metadata": {
    "colab": {},
    "colab_type": "code",
    "id": "ecpr7p9p2d2w"
   },
   "outputs": [
    {
     "name": "stdout",
     "output_type": "stream",
     "text": [
      "[1, 2, 0, 3, 1]\n",
      "['bgf...d']\n"
     ]
    }
   ],
   "source": [
    "# your code here\n",
    "mas = ['agfkd.,f', 'Qksdf;sb&..', 'asdoo*', 'bgf...d', 're54()kj[]].']\n",
    "count = list(map(lambda x: x.count(\".\"), mas))\n",
    "print (count)\n",
    "morethantwodots = list(filter(lambda x: x.count(\".\") > 2, mas))\n",
    "print (morethantwodots)"
   ]
  },
  {
   "cell_type": "markdown",
   "metadata": {
    "colab_type": "text",
    "id": "FtZ6H9sd2d2x"
   },
   "source": [
    "-------------"
   ]
  },
  {
   "cell_type": "markdown",
   "metadata": {
    "colab_type": "text",
    "id": "jxfw8Oia2d2y"
   },
   "source": [
    "### files"
   ]
  },
  {
   "cell_type": "markdown",
   "metadata": {
    "colab_type": "text",
    "id": "wT0VxQFL2d2z"
   },
   "source": [
    "Из питона можно работать с файлами, которые лежат на диске -- открывать их, читать содержимое, записывать данные в файл, читать файл построчно."
   ]
  },
  {
   "cell_type": "markdown",
   "metadata": {
    "colab_type": "text",
    "id": "qRwUksBL2d2z"
   },
   "source": [
    "Чтобы открыть файл, нужно указать путь к файлу функции `open`. Путь может быть относительным той директории, в которой находится этот ноутбук, или абсолютным (про пути: http://phpfaq.ru/newbie/paths)\n",
    "\n",
    "Кроме пути к файлу функции open необходимо указать мод, в котором мы откроем файл -- на чтение, на запись, на дозапись и т.п. Ниже приведена таблица со значениями модов. "
   ]
  },
  {
   "cell_type": "markdown",
   "metadata": {
    "colab_type": "text",
    "id": "Q29f21zO2d20"
   },
   "source": [
    "| Режим | Обозначение |\n",
    "|-------|-------------|\n",
    "| **'r'**  | Открытие на **чтение** (является значением по умолчанию) |\n",
    "| **'rb'** | Открытие на **чтение**, в предположении, что будут считываться **байты** |\n",
    "| **'w'** | Открытие на **запись**, содержимое файла удаляется. Если файла не существует, создается новый |\n",
    "| **'wb**' | Открытие на **запись байтов**, содержимое файла удаляется. Если файла не существует, создается новый |\n",
    "| **'a'** | Открытие на **дозапись**, информация добавляется **в конец файла** |\n",
    "| **'r+'** | Открыть файл на **чтение И запись**. Если файла нет, **новый НЕ создаётся** |\n",
    "| **'a+'** | Открыть файл на **чтение И запись в конец файла**. Если файла нет, **новый создаётся** |\n",
    "| **'t'** | Открытие файла **как текстового** (по умолчанию) |"
   ]
  },
  {
   "cell_type": "markdown",
   "metadata": {
    "colab_type": "text",
    "id": "J3P8al_k2d20"
   },
   "source": [
    "Откроем файл с первым ноутбуком по питону:"
   ]
  },
  {
   "cell_type": "code",
   "execution_count": 150,
   "metadata": {
    "colab": {},
    "colab_type": "code",
    "id": "3gn5Zcfz2d21"
   },
   "outputs": [],
   "source": [
    "# первый ноутбук лежит в той же папке, что и этот\n",
    "path = './[seminar]python_basics.ipynb'\n",
    "# откроем на чтение\n",
    "file = open(path, mode='r')"
   ]
  },
  {
   "cell_type": "markdown",
   "metadata": {
    "colab_type": "text",
    "id": "wbTU9stx2d22"
   },
   "source": [
    "Теперь мы можем читать из файла. Давайте посмотрим, как читать построчно:"
   ]
  },
  {
   "cell_type": "code",
   "execution_count": 151,
   "metadata": {
    "colab": {},
    "colab_type": "code",
    "id": "uMJs7yDS2d24"
   },
   "outputs": [
    {
     "ename": "UnicodeDecodeError",
     "evalue": "'charmap' codec can't decode byte 0x98 in position 7671: character maps to <undefined>",
     "output_type": "error",
     "traceback": [
      "\u001b[1;31m---------------------------------------------------------------------------\u001b[0m",
      "\u001b[1;31mUnicodeDecodeError\u001b[0m                        Traceback (most recent call last)",
      "\u001b[1;32m<ipython-input-151-a85132b7b6f2>\u001b[0m in \u001b[0;36m<module>\u001b[1;34m\u001b[0m\n\u001b[1;32m----> 1\u001b[1;33m \u001b[1;32mfor\u001b[0m \u001b[0mi\u001b[0m\u001b[1;33m,\u001b[0m \u001b[0mline\u001b[0m \u001b[1;32min\u001b[0m \u001b[0menumerate\u001b[0m\u001b[1;33m(\u001b[0m\u001b[0mfile\u001b[0m\u001b[1;33m)\u001b[0m\u001b[1;33m:\u001b[0m \u001b[1;31m# каждую итерацию цикла в line запишется очередная строка файла\u001b[0m\u001b[1;33m\u001b[0m\u001b[1;33m\u001b[0m\u001b[0m\n\u001b[0m\u001b[0;32m      2\u001b[0m     \u001b[0mprint\u001b[0m\u001b[1;33m(\u001b[0m\u001b[0mline\u001b[0m\u001b[1;33m)\u001b[0m\u001b[1;33m\u001b[0m\u001b[1;33m\u001b[0m\u001b[0m\n\u001b[0;32m      3\u001b[0m     \u001b[1;31m# если мы вывели 10 строк, остановим цикл\u001b[0m\u001b[1;33m\u001b[0m\u001b[1;33m\u001b[0m\u001b[1;33m\u001b[0m\u001b[0m\n\u001b[0;32m      4\u001b[0m     \u001b[1;32mif\u001b[0m \u001b[0mi\u001b[0m \u001b[1;33m==\u001b[0m \u001b[1;36m10\u001b[0m\u001b[1;33m:\u001b[0m\u001b[1;33m\u001b[0m\u001b[1;33m\u001b[0m\u001b[0m\n\u001b[0;32m      5\u001b[0m         \u001b[1;32mbreak\u001b[0m\u001b[1;33m\u001b[0m\u001b[1;33m\u001b[0m\u001b[0m\n",
      "\u001b[1;32m~\\Anaconda3\\lib\\encodings\\cp1251.py\u001b[0m in \u001b[0;36mdecode\u001b[1;34m(self, input, final)\u001b[0m\n\u001b[0;32m     21\u001b[0m \u001b[1;32mclass\u001b[0m \u001b[0mIncrementalDecoder\u001b[0m\u001b[1;33m(\u001b[0m\u001b[0mcodecs\u001b[0m\u001b[1;33m.\u001b[0m\u001b[0mIncrementalDecoder\u001b[0m\u001b[1;33m)\u001b[0m\u001b[1;33m:\u001b[0m\u001b[1;33m\u001b[0m\u001b[1;33m\u001b[0m\u001b[0m\n\u001b[0;32m     22\u001b[0m     \u001b[1;32mdef\u001b[0m \u001b[0mdecode\u001b[0m\u001b[1;33m(\u001b[0m\u001b[0mself\u001b[0m\u001b[1;33m,\u001b[0m \u001b[0minput\u001b[0m\u001b[1;33m,\u001b[0m \u001b[0mfinal\u001b[0m\u001b[1;33m=\u001b[0m\u001b[1;32mFalse\u001b[0m\u001b[1;33m)\u001b[0m\u001b[1;33m:\u001b[0m\u001b[1;33m\u001b[0m\u001b[1;33m\u001b[0m\u001b[0m\n\u001b[1;32m---> 23\u001b[1;33m         \u001b[1;32mreturn\u001b[0m \u001b[0mcodecs\u001b[0m\u001b[1;33m.\u001b[0m\u001b[0mcharmap_decode\u001b[0m\u001b[1;33m(\u001b[0m\u001b[0minput\u001b[0m\u001b[1;33m,\u001b[0m\u001b[0mself\u001b[0m\u001b[1;33m.\u001b[0m\u001b[0merrors\u001b[0m\u001b[1;33m,\u001b[0m\u001b[0mdecoding_table\u001b[0m\u001b[1;33m)\u001b[0m\u001b[1;33m[\u001b[0m\u001b[1;36m0\u001b[0m\u001b[1;33m]\u001b[0m\u001b[1;33m\u001b[0m\u001b[1;33m\u001b[0m\u001b[0m\n\u001b[0m\u001b[0;32m     24\u001b[0m \u001b[1;33m\u001b[0m\u001b[0m\n\u001b[0;32m     25\u001b[0m \u001b[1;32mclass\u001b[0m \u001b[0mStreamWriter\u001b[0m\u001b[1;33m(\u001b[0m\u001b[0mCodec\u001b[0m\u001b[1;33m,\u001b[0m\u001b[0mcodecs\u001b[0m\u001b[1;33m.\u001b[0m\u001b[0mStreamWriter\u001b[0m\u001b[1;33m)\u001b[0m\u001b[1;33m:\u001b[0m\u001b[1;33m\u001b[0m\u001b[1;33m\u001b[0m\u001b[0m\n",
      "\u001b[1;31mUnicodeDecodeError\u001b[0m: 'charmap' codec can't decode byte 0x98 in position 7671: character maps to <undefined>"
     ]
    }
   ],
   "source": [
    "for i, line in enumerate(file): # каждую итерацию цикла в line запишется очередная строка файла \n",
    "    print(line)\n",
    "    # если мы вывели 10 строк, остановим цикл\n",
    "    if i == 10:\n",
    "        break"
   ]
  },
  {
   "cell_type": "markdown",
   "metadata": {
    "colab_type": "text",
    "id": "5BC5wCOK2d25"
   },
   "source": [
    "Можно прочитать и весь файл целиком:"
   ]
  },
  {
   "cell_type": "code",
   "execution_count": 152,
   "metadata": {
    "colab": {},
    "colab_type": "code",
    "id": "1HcC-IMn2d25"
   },
   "outputs": [
    {
     "ename": "UnicodeDecodeError",
     "evalue": "'charmap' codec can't decode byte 0x98 in position 52203: character maps to <undefined>",
     "output_type": "error",
     "traceback": [
      "\u001b[1;31m---------------------------------------------------------------------------\u001b[0m",
      "\u001b[1;31mUnicodeDecodeError\u001b[0m                        Traceback (most recent call last)",
      "\u001b[1;32m<ipython-input-152-94a652c86bec>\u001b[0m in \u001b[0;36m<module>\u001b[1;34m\u001b[0m\n\u001b[1;32m----> 1\u001b[1;33m \u001b[0mcontent\u001b[0m \u001b[1;33m=\u001b[0m \u001b[0mfile\u001b[0m\u001b[1;33m.\u001b[0m\u001b[0mread\u001b[0m\u001b[1;33m(\u001b[0m\u001b[1;33m)\u001b[0m\u001b[1;33m\u001b[0m\u001b[1;33m\u001b[0m\u001b[0m\n\u001b[0m",
      "\u001b[1;32m~\\Anaconda3\\lib\\encodings\\cp1251.py\u001b[0m in \u001b[0;36mdecode\u001b[1;34m(self, input, final)\u001b[0m\n\u001b[0;32m     21\u001b[0m \u001b[1;32mclass\u001b[0m \u001b[0mIncrementalDecoder\u001b[0m\u001b[1;33m(\u001b[0m\u001b[0mcodecs\u001b[0m\u001b[1;33m.\u001b[0m\u001b[0mIncrementalDecoder\u001b[0m\u001b[1;33m)\u001b[0m\u001b[1;33m:\u001b[0m\u001b[1;33m\u001b[0m\u001b[1;33m\u001b[0m\u001b[0m\n\u001b[0;32m     22\u001b[0m     \u001b[1;32mdef\u001b[0m \u001b[0mdecode\u001b[0m\u001b[1;33m(\u001b[0m\u001b[0mself\u001b[0m\u001b[1;33m,\u001b[0m \u001b[0minput\u001b[0m\u001b[1;33m,\u001b[0m \u001b[0mfinal\u001b[0m\u001b[1;33m=\u001b[0m\u001b[1;32mFalse\u001b[0m\u001b[1;33m)\u001b[0m\u001b[1;33m:\u001b[0m\u001b[1;33m\u001b[0m\u001b[1;33m\u001b[0m\u001b[0m\n\u001b[1;32m---> 23\u001b[1;33m         \u001b[1;32mreturn\u001b[0m \u001b[0mcodecs\u001b[0m\u001b[1;33m.\u001b[0m\u001b[0mcharmap_decode\u001b[0m\u001b[1;33m(\u001b[0m\u001b[0minput\u001b[0m\u001b[1;33m,\u001b[0m\u001b[0mself\u001b[0m\u001b[1;33m.\u001b[0m\u001b[0merrors\u001b[0m\u001b[1;33m,\u001b[0m\u001b[0mdecoding_table\u001b[0m\u001b[1;33m)\u001b[0m\u001b[1;33m[\u001b[0m\u001b[1;36m0\u001b[0m\u001b[1;33m]\u001b[0m\u001b[1;33m\u001b[0m\u001b[1;33m\u001b[0m\u001b[0m\n\u001b[0m\u001b[0;32m     24\u001b[0m \u001b[1;33m\u001b[0m\u001b[0m\n\u001b[0;32m     25\u001b[0m \u001b[1;32mclass\u001b[0m \u001b[0mStreamWriter\u001b[0m\u001b[1;33m(\u001b[0m\u001b[0mCodec\u001b[0m\u001b[1;33m,\u001b[0m\u001b[0mcodecs\u001b[0m\u001b[1;33m.\u001b[0m\u001b[0mStreamWriter\u001b[0m\u001b[1;33m)\u001b[0m\u001b[1;33m:\u001b[0m\u001b[1;33m\u001b[0m\u001b[1;33m\u001b[0m\u001b[0m\n",
      "\u001b[1;31mUnicodeDecodeError\u001b[0m: 'charmap' codec can't decode byte 0x98 in position 52203: character maps to <undefined>"
     ]
    }
   ],
   "source": [
    "content = file.read()"
   ]
  },
  {
   "cell_type": "markdown",
   "metadata": {
    "colab_type": "text",
    "id": "weee20xd2d27"
   },
   "source": [
    "Содержимое файла прочитается и запишется в переменную content в виду строки. Давайте выведем первые 10 ее символов:"
   ]
  },
  {
   "cell_type": "code",
   "execution_count": 0,
   "metadata": {
    "colab": {},
    "colab_type": "code",
    "id": "WkKRy4j62d28"
   },
   "outputs": [],
   "source": [
    "content[:10]"
   ]
  },
  {
   "cell_type": "markdown",
   "metadata": {
    "colab_type": "text",
    "id": "L4_SLVFl2d29"
   },
   "source": [
    "Читать файл целиком не целесообразно, если файл большой -- это долго и вы займете слишком много места в оперативной памяти."
   ]
  },
  {
   "cell_type": "markdown",
   "metadata": {
    "colab_type": "text",
    "id": "-68ZUr-k2d2-"
   },
   "source": [
    "Давайте теперь запишем строку \"Hello world!\\n\" в новый файл \"hello.txt\":"
   ]
  },
  {
   "cell_type": "code",
   "execution_count": 153,
   "metadata": {
    "colab": {},
    "colab_type": "code",
    "id": "0dMvTXYx2d2-"
   },
   "outputs": [
    {
     "data": {
      "text/plain": [
       "13"
      ]
     },
     "execution_count": 153,
     "metadata": {},
     "output_type": "execute_result"
    }
   ],
   "source": [
    "file = open(\"hello.txt\", 'w')\n",
    "# метод write возвращает количество записанных символов в файл -- в нашем случае, 13\n",
    "# это нужно, чтобы понимать, все ли записалось, что вы хотели (иногда возникают ошибки записи и пишется не все)\n",
    "file.write('Hello world!\\n')"
   ]
  },
  {
   "cell_type": "markdown",
   "metadata": {
    "colab_type": "text",
    "id": "Tc0sK-MI2d2_"
   },
   "source": [
    "Теперь можно прочитать этот файл:"
   ]
  },
  {
   "cell_type": "code",
   "execution_count": 154,
   "metadata": {
    "colab": {},
    "colab_type": "code",
    "id": "NaMeUMeF2d3A"
   },
   "outputs": [
    {
     "data": {
      "text/plain": [
       "'Hello world!\\n'"
      ]
     },
     "execution_count": 154,
     "metadata": {},
     "output_type": "execute_result"
    }
   ],
   "source": [
    "file = open('hello.txt', 'r')\n",
    "file.read()"
   ]
  },
  {
   "cell_type": "markdown",
   "metadata": {
    "colab_type": "text",
    "id": "8ChR-98q2d3B"
   },
   "source": [
    "-----------------"
   ]
  },
  {
   "cell_type": "markdown",
   "metadata": {
    "colab_type": "text",
    "id": "KrCLYmVs2oqL"
   },
   "source": [
    "### sort"
   ]
  },
  {
   "cell_type": "markdown",
   "metadata": {
    "colab_type": "text",
    "id": "anzGJvwo2wL9"
   },
   "source": [
    "Как и во многих языках программирования, в Python есть встроенные функции поиска максимума, минимума в массиве, сортировки массива и т.д. \n",
    "\n",
    "Сейчас поговорим о сортировке. \n",
    "\n",
    "Отсортировать iterable просто:"
   ]
  },
  {
   "cell_type": "code",
   "execution_count": 1,
   "metadata": {
    "colab": {},
    "colab_type": "code",
    "id": "VioxREsn2uQW"
   },
   "outputs": [
    {
     "name": "stdout",
     "output_type": "stream",
     "text": [
      "[-1, 3, 6, 7, 34, 98]\n",
      "['a', 'abcba', 'bababaa', 'stroka']\n"
     ]
    }
   ],
   "source": [
    "mas1 = [3, 6, 98, 34, -1, 7]\n",
    "mas2 = ['stroka', 'abcba', 'a', 'bababaa']\n",
    "\n",
    "# sorted НЕ изменяет массив, она возвращает отсортированную копию массива\n",
    "# это, в частности, позволяет сортировать tuple (который нельзя изменять)\n",
    "print(sorted(mas1))\n",
    "print(sorted(mas2))"
   ]
  },
  {
   "cell_type": "markdown",
   "metadata": {
    "colab_type": "text",
    "id": "x_KaMm354aBP"
   },
   "source": [
    "При этом, как видно, по умолчанию массив из чисел сортируется по возрастанию, массив строк -- в алфавитном порядке.\n",
    "\n",
    "Что можно сделать, если мы хотим отсортировать массив не так, как его сортирует `sorted` по умолчанию?\n",
    "\n",
    "Оказывается, в sorted можно передать аргумент `key` -- ключ, по которому мы хотим отсортировать наш массив. Рассмотрим пример: пусть у нас есть массив пар (кортежей размера 2) и мы хотим отсортировать его по **второму** элементу кортежа:"
   ]
  },
  {
   "cell_type": "code",
   "execution_count": 2,
   "metadata": {
    "colab": {},
    "colab_type": "code",
    "id": "qe7cOxQm5Bhq"
   },
   "outputs": [],
   "source": [
    "t = [(4, 5), (97, 2), (8, 291), (-1, 67), (98, -10), (8, 34)]"
   ]
  },
  {
   "cell_type": "markdown",
   "metadata": {
    "colab_type": "text",
    "id": "ariklxy95JwF"
   },
   "source": [
    "Если мы просто вызовем sorted, то получим следующее: массив отсортируется по первому элементу кортежей, а если первые элементы двух кортежей равны, то первым будет тот, у которого второй элемент меньше:"
   ]
  },
  {
   "cell_type": "code",
   "execution_count": 3,
   "metadata": {
    "colab": {},
    "colab_type": "code",
    "id": "UxRhdj2L5JEy"
   },
   "outputs": [
    {
     "data": {
      "text/plain": [
       "[(-1, 67), (4, 5), (8, 34), (8, 291), (97, 2), (98, -10)]"
      ]
     },
     "execution_count": 3,
     "metadata": {},
     "output_type": "execute_result"
    }
   ],
   "source": [
    "sorted(t)"
   ]
  },
  {
   "cell_type": "markdown",
   "metadata": {
    "colab_type": "text",
    "id": "_ARTmNd85Zgf"
   },
   "source": [
    "Но это не то, что мы хотели, мы хотели отсортировать массив по второму элементу кортежей. \n",
    "\n",
    "Вот как это сделать с помощью передачи ключа сортировки в sorted:"
   ]
  },
  {
   "cell_type": "code",
   "execution_count": 10,
   "metadata": {
    "colab": {},
    "colab_type": "code",
    "id": "WBOspLlf5Ytt"
   },
   "outputs": [
    {
     "data": {
      "text/plain": [
       "[(98, -10), (97, 2), (4, 5), (8, 34), (-1, 67), (8, 291)]"
      ]
     },
     "execution_count": 10,
     "metadata": {},
     "output_type": "execute_result"
    }
   ],
   "source": [
    "sorted(t, key=lambda x: x[1])"
   ]
  },
  {
   "cell_type": "markdown",
   "metadata": {
    "colab_type": "text",
    "id": "8R9RUUVt6pGh"
   },
   "source": [
    "В качестве значения `key` нужно передать функцию, которая принимает элемент iterable, который сы сортируем (в нашем случае это tuple) и возвращает значение, по которому будет выполняться сортировка (в нашем случае возвращаемое значение -- x[1] -- первый элемент кортежа)"
   ]
  },
  {
   "cell_type": "markdown",
   "metadata": {
    "colab_type": "text",
    "id": "blYetp6z7Cba"
   },
   "source": [
    "Также у list есть метод `sort`, который выполняет сортировку массива, **изменяя сам массив**:"
   ]
  },
  {
   "cell_type": "code",
   "execution_count": 12,
   "metadata": {
    "colab": {},
    "colab_type": "code",
    "id": "s0184doI6omu"
   },
   "outputs": [
    {
     "data": {
      "text/plain": [
       "[(98, -10), (97, 2), (4, 5), (8, 34), (-1, 67), (8, 291)]"
      ]
     },
     "execution_count": 12,
     "metadata": {},
     "output_type": "execute_result"
    }
   ],
   "source": [
    "t = [(4, 5), (97, 2), (8, 291), (-1, 67), (98, -10), (8, 34)]\n",
    "t.sort(key=lambda x: x[1])\n",
    "t"
   ]
  },
  {
   "cell_type": "markdown",
   "metadata": {
    "colab_type": "text",
    "id": "DQuGaVmY7Ud1"
   },
   "source": [
    "В .sort() также пожно передавать ключ сортировки."
   ]
  },
  {
   "cell_type": "markdown",
   "metadata": {
    "colab_type": "text",
    "id": "ba4m15HQ2d3C"
   },
   "source": [
    "### модуль collections\n",
    "\n",
    "Collections -- это модуль (библиотека), где реализованы многие полезные функции. Подробнее можно прочитать в документации, а сейчас познакомимся с двумя самыми часто используемыми вещами оттуда."
   ]
  },
  {
   "cell_type": "code",
   "execution_count": 14,
   "metadata": {
    "colab": {},
    "colab_type": "code",
    "id": "SlH7vb7d2d3C"
   },
   "outputs": [],
   "source": [
    "import collections"
   ]
  },
  {
   "cell_type": "markdown",
   "metadata": {
    "colab_type": "text",
    "id": "Hvn6ThiR2d3D"
   },
   "source": [
    "**defaultdict()** - класс словаря, у которого есть значение по умолчанию. По сути, это тот же dict со всеми его функциями и свойствами, но у defaultdict есть значение по умолчанию: в обычном dict, если мы предварительно не положили в него какое-нибудь значение по ключу key, попытка получить значение по ключу key обкрнется ошибкой:"
   ]
  },
  {
   "cell_type": "code",
   "execution_count": 15,
   "metadata": {
    "colab": {},
    "colab_type": "code",
    "id": "vX1ei1FM2d3D"
   },
   "outputs": [
    {
     "ename": "KeyError",
     "evalue": "'key'",
     "output_type": "error",
     "traceback": [
      "\u001b[1;31m---------------------------------------------------------------------------\u001b[0m",
      "\u001b[1;31mKeyError\u001b[0m                                  Traceback (most recent call last)",
      "\u001b[1;32m<ipython-input-15-2694750d3286>\u001b[0m in \u001b[0;36m<module>\u001b[1;34m\u001b[0m\n\u001b[0;32m      1\u001b[0m \u001b[0md\u001b[0m \u001b[1;33m=\u001b[0m \u001b[0mdict\u001b[0m\u001b[1;33m(\u001b[0m\u001b[1;33m)\u001b[0m\u001b[1;33m\u001b[0m\u001b[1;33m\u001b[0m\u001b[0m\n\u001b[1;32m----> 2\u001b[1;33m \u001b[0md\u001b[0m\u001b[1;33m[\u001b[0m\u001b[1;34m'key'\u001b[0m\u001b[1;33m]\u001b[0m\u001b[1;33m\u001b[0m\u001b[1;33m\u001b[0m\u001b[0m\n\u001b[0m",
      "\u001b[1;31mKeyError\u001b[0m: 'key'"
     ]
    }
   ],
   "source": [
    "d = dict()\n",
    "d['key']"
   ]
  },
  {
   "cell_type": "markdown",
   "metadata": {
    "colab_type": "text",
    "id": "CVCJ6Knk2d3F"
   },
   "source": [
    "в defaultdict при объявлении словаря мы задаем значение, которое будет присваиваться по умолчанию всем ключам, которые мы не клали в словарь руками: "
   ]
  },
  {
   "cell_type": "code",
   "execution_count": 16,
   "metadata": {
    "colab": {},
    "colab_type": "code",
    "id": "epDRfeQl2d3F"
   },
   "outputs": [
    {
     "data": {
      "text/plain": [
       "0"
      ]
     },
     "execution_count": 16,
     "metadata": {},
     "output_type": "execute_result"
    }
   ],
   "source": [
    "defaultd = collections.defaultdict(int) \n",
    "# теперь всем ключам defaultd будет присвиваться значение по умолчанию типа int, т.е. 0\n",
    "\n",
    "defaultd['key']"
   ]
  },
  {
   "cell_type": "markdown",
   "metadata": {
    "colab_type": "text",
    "id": "4zH1CPNq2d3G"
   },
   "source": [
    "Еще примеры defaultdict:"
   ]
  },
  {
   "cell_type": "code",
   "execution_count": 19,
   "metadata": {
    "colab": {},
    "colab_type": "code",
    "id": "ehQwPtSJ2d3G"
   },
   "outputs": [
    {
     "name": "stdout",
     "output_type": "stream",
     "text": [
      "empty\n",
      "full\n"
     ]
    }
   ],
   "source": [
    "d = collections.defaultdict(lambda: 'empty')\n",
    "print(d['key'])\n",
    "\n",
    "d['key'] = 'full'\n",
    "print(d['key'])"
   ]
  },
  {
   "cell_type": "code",
   "execution_count": 24,
   "metadata": {
    "colab": {},
    "colab_type": "code",
    "id": "iF3WUZS_2d3H"
   },
   "outputs": [
    {
     "name": "stdout",
     "output_type": "stream",
     "text": [
      "defaultdict(<class 'list'>, {})\n",
      "defaultdict(<class 'list'>, {'list1': [100, 200, 300], 'list2': [101, 102, 103]})\n",
      "[100, 200, 300][101, 102, 103]\n"
     ]
    }
   ],
   "source": [
    "d = collections.defaultdict(list)\n",
    "print(d)\n",
    "\n",
    "d['list1'].append(100)\n",
    "d['list1'].append(200)\n",
    "d['list1'].append(300)\n",
    "d['list2'].append(101)\n",
    "d['list2'].append(102)\n",
    "d['list2'].append(103)\n",
    "print(d)\n",
    "print(d['list1'],end='')\n",
    "print(d['list2'])"
   ]
  },
  {
   "cell_type": "markdown",
   "metadata": {
    "colab_type": "text",
    "id": "eUsb88vg2d3I"
   },
   "source": [
    "**Counter()** -- это defaultdict(int). Вынесен в отдельную сущность, потому что именно этот тип defaultdict чаще всего используется, когда нужен **счетчик** чего-либо. "
   ]
  },
  {
   "cell_type": "code",
   "execution_count": 25,
   "metadata": {
    "colab": {},
    "colab_type": "code",
    "id": "q9x_2Zow2d3I"
   },
   "outputs": [
    {
     "name": "stdout",
     "output_type": "stream",
     "text": [
      "Counter({'e': 4, 'o': 3, 't': 2, 'r': 2, 'f': 2, 'n': 1, 'w': 1, 'h': 1, 'u': 1, 'i': 1, 'v': 1})\n"
     ]
    }
   ],
   "source": [
    "counter = collections.Counter()\n",
    "\n",
    "for word in [\"one\", \"two\", \"three\", \"four\", \"five\"]:\n",
    "    for letter in word:\n",
    "        counter[letter] += 1  # или .update(value)\n",
    "    \n",
    "print(counter)"
   ]
  },
  {
   "cell_type": "markdown",
   "metadata": {
    "colab_type": "text",
    "id": "4EVeUCtI2d3J"
   },
   "source": [
    "### Задание 5\n",
    "\n",
    "1. Создайте словарь счётчиков\n",
    "\n",
    "2. Создайте переменную, в которую сохраните все пути к нужным текстовым файлам (расположены по адресу './20_newsgroups/sci.space/', папка лежит в гугл-доке)\n",
    "3. Для каждого текста (текстового файла) посчитайте сколько каждое слово (из этого текста) встретилось в этом тексте (используйте предыдущие пункты)"
   ]
  },
  {
   "cell_type": "code",
   "execution_count": 37,
   "metadata": {
    "colab": {},
    "colab_type": "code",
    "id": "7Az7jtUa2d3J"
   },
   "outputs": [
    {
     "name": "stdout",
     "output_type": "stream",
     "text": [
      "file1.txt\n",
      "\n",
      "Counter({'of': 5, 'is': 4, 'to': 3, 'a': 3, 'the': 2, 'boundless': 2, 'in': 2, 'and': 2, 'space': 2, 'be': 2, 'part': 2, 'an': 2, 'between': 2, 'Space': 1, 'three-dimensional': 1, 'extent': 1, 'which': 1, 'objects': 1, 'events': 1, 'have': 1, 'relative': 1, 'position': 1, 'direction.[1]': 1, 'Physical': 1, 'often': 1, 'conceived': 1, 'three': 1, 'linear': 1, 'dimensions,': 1, 'although': 1, 'modern': 1, 'physicists': 1, 'usually': 1, 'consider': 1, 'it,': 1, 'with': 1, 'time,': 1, 'four-dimensional': 1, 'continuum': 1, 'known': 1, 'as': 1, 'spacetime.': 1, 'The': 1, 'concept': 1, 'considered': 1, 'fundamental': 1, 'importance': 1, 'understanding': 1, 'physical': 1, 'universe.': 1, 'However,': 1, 'disagreement': 1, 'continues': 1, 'philosophers': 1, 'over': 1, 'whether': 1, 'it': 1, 'itself': 1, 'entity,': 1, 'relationship': 1, 'entities,': 1, 'or': 1, 'conceptual': 1, 'framework.': 1})\n",
      "\n",
      "file2.txt\n",
      "\n",
      "Counter({'of': 24, 'the': 23, 'in': 13, 'and': 9, 'to': 8, 'a': 7, 'space': 6, 'is': 4, 'or': 4, 'that': 4, 'as': 3, 'an': 3, 'between': 3, 'his': 3, 'was': 3, 'boundless': 2, 'be': 2, 'part': 2, 'whether': 2, 'it': 2, 'on': 2, '(i.e.': 2, 'classical': 2, 'century,': 2, 'In': 2, 'given': 2, 'from': 2, 'Kant': 2, 'are': 2, 'Space': 1, 'three-dimensional': 1, 'extent': 1, 'which': 1, 'objects': 1, 'events': 1, 'have': 1, 'relative': 1, 'position': 1, 'direction.[1]': 1, 'Physical': 1, 'often': 1, 'conceived': 1, 'three': 1, 'linear': 1, 'dimensions,': 1, 'although': 1, 'modern': 1, 'physicists': 1, 'usually': 1, 'consider': 1, 'it,': 1, 'with': 1, 'time,': 1, 'four-dimensional': 1, 'continuum': 1, 'known': 1, 'spacetime.': 1, 'The': 1, 'concept': 1, 'considered': 1, 'fundamental': 1, 'importance': 1, 'understanding': 1, 'physical': 1, 'universe.': 1, 'However,': 1, 'disagreement': 1, 'continues': 1, 'philosophers': 1, 'over': 1, 'itself': 1, 'entity,': 1, 'relationship': 1, 'entities,': 1, 'conceptual': 1, 'framework.': 1, 'Debates': 1, 'concerning': 1, 'nature,': 1, 'essence': 1, 'mode': 1, 'existence': 1, 'date': 1, 'back': 1, 'antiquity;': 1, 'namely,': 1, 'treatises': 1, 'like': 1, 'Timaeus': 1, 'Plato,': 1, 'Socrates': 1, 'reflections': 1, 'what': 1, 'Greeks': 1, 'called': 1, 'kh?ra': 1, '\"space\"),': 1, 'Physics': 1, 'Aristotle': 1, '(Book': 1, 'IV,': 1, 'Delta)': 1, 'definition': 1, 'topos': 1, 'place),': 1, 'later': 1, '\"geometrical': 1, 'conception': 1, 'place\"': 1, '\"space': 1, 'qua': 1, 'extension\"': 1, 'Discourse': 1, 'Place': 1, '(Qawl': 1, 'fi': 1, 'al-Makan)': 1, '11th-century': 1, 'Arab': 1, 'polymath': 1, 'Alhazen.[2]': 1, 'Many': 1, 'these': 1, 'philosophical': 1, 'questions': 1, 'were': 1, 'discussed': 1, 'Renaissance': 1, 'then': 1, 'reformulated': 1, '17th': 1, 'particularly': 1, 'during': 1, 'early': 1, 'development': 1, 'mechanics.': 1, 'Isaac': 1, \"Newton's\": 1, 'view,': 1, 'absolute—in': 1, 'sense': 1, 'existed': 1, 'permanently': 1, 'independently': 1, 'there': 1, 'any': 1, 'matter': 1, 'space.[3]': 1, 'Other': 1, 'natural': 1, 'philosophers,': 1, 'notably': 1, 'Gottfried': 1, 'Leibniz,': 1, 'thought': 1, 'instead': 1, 'fact': 1, 'collection': 1, 'relations': 1, 'objects,': 1, 'by': 1, 'their': 1, 'distance': 1, 'direction': 1, 'one': 1, 'another.': 1, '18th': 1, 'philosopher': 1, 'theologian': 1, 'George': 1, 'Berkeley': 1, 'attempted': 1, 'refute': 1, '\"visibility': 1, 'spatial': 1, 'depth\"': 1, 'Essay': 1, 'Towards': 1, 'New': 1, 'Theory': 1, 'Vision.': 1, 'Later,': 1, 'metaphysician': 1, 'Immanuel': 1, 'said': 1, 'concepts': 1, 'time': 1, 'not': 1, 'empirical': 1, 'ones': 1, 'derived': 1, 'experiences': 1, 'outside': 1, 'world—they': 1, 'elements': 1, 'already': 1, 'systematic': 1, 'framework': 1, 'humans': 1, 'possess': 1, 'use': 1, 'structure': 1, 'all': 1, 'experiences.': 1, 'referred': 1, 'experience': 1, '\"space\"': 1, 'Critique': 1, 'Pure': 1, 'Reason': 1, 'being': 1, 'subjective': 1, '\"pure': 1, 'priori': 1, 'form': 1, 'intuition\".': 1})\n",
      "\n",
      "file3.txt\n",
      "\n"
     ]
    },
    {
     "name": "stdout",
     "output_type": "stream",
     "text": [
      "Counter({'the': 39, 'of': 35, 'in': 20, 'and': 15, 'space': 12, 'to': 12, 'that': 12, 'a': 10, 'be': 9, 'between': 8, 'is': 6, 'relations': 6, 'an': 5, 'or': 5, 'could': 5, 'objects': 4, 'as': 4, 'was': 4, 'independently': 4, 'there': 4, 'from': 4, 'are': 4, 'not': 4, 'his': 3, 'these': 3, 'century,': 3, 'In': 3, 'Leibniz,': 3, 'spatial': 3, 'two': 3, 'no': 3, 'universes': 3, 'Space': 2, 'boundless': 2, 'which': 2, 'have': 2, 'with': 2, 'part': 2, 'universe.': 2, 'over': 2, 'whether': 2, 'it': 2, 'on': 2, 'what': 2, '(i.e.': 2, '\"space': 2, 'classical': 2, 'Isaac': 2, 'any': 2, 'Gottfried': 2, 'thought': 2, 'collection': 2, 'given': 2, 'their': 2, 'one': 2, 'Kant': 2, 'time': 2, 'being': 2, 'than': 2, 'other': 2, 'Leibniz': 2, 'then,': 2, 'possible': 2, 'therefore': 2, 'must': 2, 'way': 2, 'family': 2, 'exist': 2, 'world': 2, 'difference': 2, 'would': 2, 'three-dimensional': 1, 'extent': 1, 'events': 1, 'relative': 1, 'position': 1, 'direction.[1]': 1, 'Physical': 1, 'often': 1, 'conceived': 1, 'three': 1, 'linear': 1, 'dimensions,': 1, 'although': 1, 'modern': 1, 'physicists': 1, 'usually': 1, 'consider': 1, 'it,': 1, 'time,': 1, 'four-dimensional': 1, 'continuum': 1, 'known': 1, 'spacetime.': 1, 'The': 1, 'concept': 1, 'considered': 1, 'fundamental': 1, 'importance': 1, 'understanding': 1, 'physical': 1, 'However,': 1, 'disagreement': 1, 'continues': 1, 'philosophers': 1, 'itself': 1, 'entity,': 1, 'relationship': 1, 'entities,': 1, 'conceptual': 1, 'framework.': 1, 'Debates': 1, 'concerning': 1, 'nature,': 1, 'essence': 1, 'mode': 1, 'existence': 1, 'date': 1, 'back': 1, 'antiquity;': 1, 'namely,': 1, 'treatises': 1, 'like': 1, 'Timaeus': 1, 'Plato,': 1, 'Socrates': 1, 'reflections': 1, 'Greeks': 1, 'called': 1, 'kh?ra': 1, '\"space\"),': 1, 'Physics': 1, 'Aristotle': 1, '(Book': 1, 'IV,': 1, 'Delta)': 1, 'definition': 1, 'topos': 1, 'place),': 1, 'later': 1, '\"geometrical': 1, 'conception': 1, 'place\"': 1, 'qua': 1, 'extension\"': 1, 'Discourse': 1, 'Place': 1, '(Qawl': 1, 'fi': 1, 'al-Makan)': 1, '11th-century': 1, 'Arab': 1, 'polymath': 1, 'Alhazen.[2]': 1, 'Many': 1, 'philosophical': 1, 'questions': 1, 'were': 1, 'discussed': 1, 'Renaissance': 1, 'then': 1, 'reformulated': 1, '17th': 1, 'particularly': 1, 'during': 1, 'early': 1, 'development': 1, 'mechanics.': 1, \"Newton's\": 1, 'view,': 1, 'absolute—in': 1, 'sense': 1, 'existed': 1, 'permanently': 1, 'matter': 1, 'space.[3]': 1, 'Other': 1, 'natural': 1, 'philosophers,': 1, 'notably': 1, 'instead': 1, 'fact': 1, 'objects,': 1, 'by': 1, 'distance': 1, 'direction': 1, 'another.': 1, '18th': 1, 'philosopher': 1, 'theologian': 1, 'George': 1, 'Berkeley': 1, 'attempted': 1, 'refute': 1, '\"visibility': 1, 'depth\"': 1, 'Essay': 1, 'Towards': 1, 'New': 1, 'Theory': 1, 'Vision.': 1, 'Later,': 1, 'metaphysician': 1, 'Immanuel': 1, 'said': 1, 'concepts': 1, 'empirical': 1, 'ones': 1, 'derived': 1, 'experiences': 1, 'outside': 1, 'world—they': 1, 'elements': 1, 'already': 1, 'systematic': 1, 'framework': 1, 'humans': 1, 'possess': 1, 'use': 1, 'structure': 1, 'all': 1, 'experiences.': 1, 'referred': 1, 'experience': 1, '\"space\"': 1, 'Critique': 1, 'Pure': 1, 'Reason': 1, 'subjective': 1, '\"pure': 1, 'priori': 1, 'form': 1, 'intuition\".': 1, 'seventeenth': 1, 'philosophy': 1, 'emerged': 1, 'central': 1, 'issue': 1, 'epistemology': 1, 'metaphysics.': 1, 'At': 1, 'its': 1, 'heart,': 1, 'German': 1, 'philosopher-mathematician,': 1, 'Newton,': 1, 'English': 1, 'physicist-mathematician,': 1, 'set': 1, 'out': 1, 'opposing': 1, 'theories': 1, 'is.': 1, 'Rather': 1, 'entity': 1, 'exists': 1, 'above': 1, 'matter,': 1, 'held': 1, 'more': 1, 'world:': 1, 'results': 1, 'places': 1, 'taken': 1, 'together\".[5]': 1, 'Unoccupied': 1, 'regions': 1, 'those': 1, 'them,': 1, 'thus': 1, 'places.': 1, 'For': 1, 'idealised': 1, 'abstraction': 1, 'individual': 1, 'entities': 1, 'locations': 1, 'continuous': 1, 'but': 1, 'discrete.[6]': 1, 'similar': 1, 'members.': 1, 'Although': 1, 'people': 1, 'related': 1, 'another,': 1, 'do': 1, 'people.[7]': 1, 'argued': 1, 'because': 1, 'implies': 1, 'exactly': 1, 'alike': 1, 'except': 1, 'for': 1, 'location': 1, 'material': 1, 'each': 1, 'But': 1, 'since': 1, 'observational': 1, 'telling': 1, 'apart': 1, 'according': 1, 'identity': 1, 'indiscernibles,': 1, 'real': 1, 'them.': 1, 'According': 1, 'principle': 1, 'sufficient': 1, 'reason,': 1, 'theory': 1, 'implied': 1, 'wrong.[8]': 1})\n",
      "\n",
      "file4.txt\n",
      "\n"
     ]
    },
    {
     "name": "stdout",
     "output_type": "stream",
     "text": [
      "Counter({'the': 52, 'of': 41, 'in': 25, 'and': 21, 'to': 19, 'a': 17, 'space': 15, 'that': 14, 'be': 13, 'between': 11, 'is': 9, 'relations': 7, 'objects': 6, 'as': 6, 'with': 5, 'an': 5, 'it': 5, 'or': 5, 'his': 5, 'was': 5, 'independently': 5, 'there': 5, 'from': 5, 'are': 5, 'not': 5, 'could': 5, 'must': 5, 'bucket': 5, 'which': 4, 'relative': 4, 'spatial': 4, 'no': 4, 'continues': 3, 'on': 3, 'these': 3, 'century,': 3, 'In': 3, 'Leibniz,': 3, 'their': 3, 'two': 3, 'than': 3, 'other': 3, 'For': 3, 'therefore': 3, 'exist': 3, 'difference': 3, 'universes': 3, 'since': 3, 'Newton': 3, 'non-inertial': 3, 'motion': 3, 'water': 3, 'surface': 3, 'Space': 2, 'boundless': 2, 'have': 2, 'position': 2, 'time,': 2, 'part': 2, 'The': 2, 'considered': 2, 'universe.': 2, 'over': 2, 'whether': 2, 'what': 2, '(i.e.': 2, '\"space': 2, 'classical': 2, 'then': 2, 'Isaac': 2, 'any': 2, 'Gottfried': 2, 'thought': 2, 'collection': 2, 'given': 2, 'one': 2, 'Kant': 2, 'time': 2, 'all': 2, 'being': 2, 'set': 2, 'Leibniz': 2, 'more': 2, 'then,': 2, 'possible': 2, 'way': 2, 'family': 2, 'argued': 2, 'world': 2, 'material': 2, 'But': 2, 'would': 2, 'real': 2, 'motion,': 2, 'spinning': 2, 'spin,': 2, 'concave': 2, 'result': 2, 'three-dimensional': 1, 'extent': 1, 'events': 1, 'direction.[1]': 1, 'Physical': 1, 'often': 1, 'conceived': 1, 'three': 1, 'linear': 1, 'dimensions,': 1, 'although': 1, 'modern': 1, 'physicists': 1, 'usually': 1, 'consider': 1, 'it,': 1, 'four-dimensional': 1, 'continuum': 1, 'known': 1, 'spacetime.': 1, 'concept': 1, 'fundamental': 1, 'importance': 1, 'understanding': 1, 'physical': 1, 'However,': 1, 'disagreement': 1, 'philosophers': 1, 'itself': 1, 'entity,': 1, 'relationship': 1, 'entities,': 1, 'conceptual': 1, 'framework.': 1, 'Debates': 1, 'concerning': 1, 'nature,': 1, 'essence': 1, 'mode': 1, 'existence': 1, 'date': 1, 'back': 1, 'antiquity;': 1, 'namely,': 1, 'treatises': 1, 'like': 1, 'Timaeus': 1, 'Plato,': 1, 'Socrates': 1, 'reflections': 1, 'Greeks': 1, 'called': 1, 'kh?ra': 1, '\"space\"),': 1, 'Physics': 1, 'Aristotle': 1, '(Book': 1, 'IV,': 1, 'Delta)': 1, 'definition': 1, 'topos': 1, 'place),': 1, 'later': 1, '\"geometrical': 1, 'conception': 1, 'place\"': 1, 'qua': 1, 'extension\"': 1, 'Discourse': 1, 'Place': 1, '(Qawl': 1, 'fi': 1, 'al-Makan)': 1, '11th-century': 1, 'Arab': 1, 'polymath': 1, 'Alhazen.[2]': 1, 'Many': 1, 'philosophical': 1, 'questions': 1, 'were': 1, 'discussed': 1, 'Renaissance': 1, 'reformulated': 1, '17th': 1, 'particularly': 1, 'during': 1, 'early': 1, 'development': 1, 'mechanics.': 1, \"Newton's\": 1, 'view,': 1, 'absolute—in': 1, 'sense': 1, 'existed': 1, 'permanently': 1, 'matter': 1, 'space.[3]': 1, 'Other': 1, 'natural': 1, 'philosophers,': 1, 'notably': 1, 'instead': 1, 'fact': 1, 'objects,': 1, 'by': 1, 'distance': 1, 'direction': 1, 'another.': 1, '18th': 1, 'philosopher': 1, 'theologian': 1, 'George': 1, 'Berkeley': 1, 'attempted': 1, 'refute': 1, '\"visibility': 1, 'depth\"': 1, 'Essay': 1, 'Towards': 1, 'New': 1, 'Theory': 1, 'Vision.': 1, 'Later,': 1, 'metaphysician': 1, 'Immanuel': 1, 'said': 1, 'concepts': 1, 'empirical': 1, 'ones': 1, 'derived': 1, 'experiences': 1, 'outside': 1, 'world—they': 1, 'elements': 1, 'already': 1, 'systematic': 1, 'framework': 1, 'humans': 1, 'possess': 1, 'use': 1, 'structure': 1, 'experiences.': 1, 'referred': 1, 'experience': 1, '\"space\"': 1, 'Critique': 1, 'Pure': 1, 'Reason': 1, 'subjective': 1, '\"pure': 1, 'priori': 1, 'form': 1, 'intuition\".': 1, 'seventeenth': 1, 'philosophy': 1, 'emerged': 1, 'central': 1, 'issue': 1, 'epistemology': 1, 'metaphysics.': 1, 'At': 1, 'its': 1, 'heart,': 1, 'German': 1, 'philosopher-mathematician,': 1, 'Newton,': 1, 'English': 1, 'physicist-mathematician,': 1, 'out': 1, 'opposing': 1, 'theories': 1, 'is.': 1, 'Rather': 1, 'entity': 1, 'exists': 1, 'above': 1, 'matter,': 1, 'held': 1, 'world:': 1, 'results': 1, 'places': 1, 'taken': 1, 'together\".[5]': 1, 'Unoccupied': 1, 'regions': 1, 'those': 1, 'them,': 1, 'thus': 1, 'places.': 1, 'idealised': 1, 'abstraction': 1, 'individual': 1, 'entities': 1, 'locations': 1, 'continuous': 1, 'but': 1, 'discrete.[6]': 1, 'similar': 1, 'members.': 1, 'Although': 1, 'people': 1, 'related': 1, 'another,': 1, 'do': 1, 'people.[7]': 1, 'because': 1, 'implies': 1, 'exactly': 1, 'alike': 1, 'except': 1, 'for': 1, 'location': 1, 'each': 1, 'observational': 1, 'telling': 1, 'apart': 1, 'according': 1, 'identity': 1, 'indiscernibles,': 1, 'them.': 1, 'According': 1, 'principle': 1, 'sufficient': 1, 'reason,': 1, 'theory': 1, 'implied': 1, 'wrong.[8]': 1, 'took': 1, 'based': 1, 'observation': 1, 'experimentation.': 1, 'relationist': 1, 'can': 1, 'inertial': 1, 'object': 1, 'travels': 1, 'constant': 1, 'velocity,': 1, 'velocity': 1, 'changes': 1, 'measurements': 1, 'motions.': 1, 'generates': 1, 'forces,': 1, 'absolute.[9]': 1, 'He': 1, 'used': 1, 'example': 1, 'demonstrate': 1, 'argument.': 1, 'Water': 1, 'hung': 1, 'rope': 1, 'starts': 1, 'flat': 1, 'surface.': 1, 'After': 1, 'while,': 1, 'becomes': 1, 'concave.': 1, 'If': 1, \"bucket's\": 1, 'stopped': 1, 'remains': 1, 'spin.': 1, 'apparently': 1, 'water.[10]Instead,': 1, 'argued,': 1, 'itself.': 1, 'several': 1, 'centuries': 1, 'argument': 1, 'decisive': 1, 'showing': 1, 'matter.': 1})\n",
      "\n",
      "file5.txt\n",
      "\n"
     ]
    },
    {
     "name": "stdout",
     "output_type": "stream",
     "text": [
      "Counter({'the': 60, 'of': 46, 'in': 28, 'and': 23, 'to': 22, 'a': 21, 'space': 20, 'that': 17, 'be': 16, 'between': 11, 'is': 10, 'as': 7, 'relations': 7, 'are': 7, 'not': 7, 'objects': 6, 'or': 6, 'his': 6, 'must': 6, 'which': 5, 'with': 5, 'an': 5, 'it': 5, 'In': 5, 'was': 5, 'independently': 5, 'there': 5, 'from': 5, 'could': 5, 'bucket': 5, 'relative': 4, 'by': 4, 'spatial': 4, 'Kant': 4, 'no': 4, 'part': 3, 'continues': 3, 'on': 3, 'these': 3, 'century,': 3, 'Leibniz,': 3, 'their': 3, 'time': 3, 'two': 3, 'than': 3, 'other': 3, 'For': 3, 'therefore': 3, 'exist': 3, 'difference': 3, 'universes': 3, 'since': 3, 'Newton': 3, 'non-inertial': 3, 'motion': 3, 'water': 3, 'surface': 3, 'knowledge': 3, 'about': 3, 'Space': 2, 'boundless': 2, 'have': 2, 'position': 2, 'time,': 2, 'The': 2, 'considered': 2, 'universe.': 2, 'over': 2, 'whether': 2, 'what': 2, '(i.e.': 2, '\"space': 2, 'classical': 2, 'then': 2, 'Isaac': 2, 'any': 2, 'Gottfried': 2, 'thought': 2, 'collection': 2, 'given': 2, 'one': 2, 'philosopher': 2, 'Immanuel': 2, 'framework': 2, 'humans': 2, 'all': 2, 'being': 2, 'priori': 2, 'German': 2, 'set': 2, 'Leibniz': 2, 'more': 2, 'then,': 2, 'possible': 2, 'but': 2, 'way': 2, 'family': 2, 'argued': 2, 'world': 2, 'for': 2, 'material': 2, 'But': 2, 'would': 2, 'real': 2, 'According': 2, 'theory': 2, 'can': 2, 'motion,': 2, 'spinning': 2, 'spin,': 2, 'concave': 2, 'result': 2, 'three-dimensional': 1, 'extent': 1, 'events': 1, 'direction.[1]': 1, 'Physical': 1, 'often': 1, 'conceived': 1, 'three': 1, 'linear': 1, 'dimensions,': 1, 'although': 1, 'modern': 1, 'physicists': 1, 'usually': 1, 'consider': 1, 'it,': 1, 'four-dimensional': 1, 'continuum': 1, 'known': 1, 'spacetime.': 1, 'concept': 1, 'fundamental': 1, 'importance': 1, 'understanding': 1, 'physical': 1, 'However,': 1, 'disagreement': 1, 'philosophers': 1, 'itself': 1, 'entity,': 1, 'relationship': 1, 'entities,': 1, 'conceptual': 1, 'framework.': 1, 'Debates': 1, 'concerning': 1, 'nature,': 1, 'essence': 1, 'mode': 1, 'existence': 1, 'date': 1, 'back': 1, 'antiquity;': 1, 'namely,': 1, 'treatises': 1, 'like': 1, 'Timaeus': 1, 'Plato,': 1, 'Socrates': 1, 'reflections': 1, 'Greeks': 1, 'called': 1, 'kh?ra': 1, '\"space\"),': 1, 'Physics': 1, 'Aristotle': 1, '(Book': 1, 'IV,': 1, 'Delta)': 1, 'definition': 1, 'topos': 1, 'place),': 1, 'later': 1, '\"geometrical': 1, 'conception': 1, 'place\"': 1, 'qua': 1, 'extension\"': 1, 'Discourse': 1, 'Place': 1, '(Qawl': 1, 'fi': 1, 'al-Makan)': 1, '11th-century': 1, 'Arab': 1, 'polymath': 1, 'Alhazen.[2]': 1, 'Many': 1, 'philosophical': 1, 'questions': 1, 'were': 1, 'discussed': 1, 'Renaissance': 1, 'reformulated': 1, '17th': 1, 'particularly': 1, 'during': 1, 'early': 1, 'development': 1, 'mechanics.': 1, \"Newton's\": 1, 'view,': 1, 'absolute—in': 1, 'sense': 1, 'existed': 1, 'permanently': 1, 'matter': 1, 'space.[3]': 1, 'Other': 1, 'natural': 1, 'philosophers,': 1, 'notably': 1, 'instead': 1, 'fact': 1, 'objects,': 1, 'distance': 1, 'direction': 1, 'another.': 1, '18th': 1, 'theologian': 1, 'George': 1, 'Berkeley': 1, 'attempted': 1, 'refute': 1, '\"visibility': 1, 'depth\"': 1, 'Essay': 1, 'Towards': 1, 'New': 1, 'Theory': 1, 'Vision.': 1, 'Later,': 1, 'metaphysician': 1, 'said': 1, 'concepts': 1, 'empirical': 1, 'ones': 1, 'derived': 1, 'experiences': 1, 'outside': 1, 'world—they': 1, 'elements': 1, 'already': 1, 'systematic': 1, 'possess': 1, 'use': 1, 'structure': 1, 'experiences.': 1, 'referred': 1, 'experience': 1, '\"space\"': 1, 'Critique': 1, 'Pure': 1, 'Reason': 1, 'subjective': 1, '\"pure': 1, 'form': 1, 'intuition\".': 1, 'seventeenth': 1, 'philosophy': 1, 'emerged': 1, 'central': 1, 'issue': 1, 'epistemology': 1, 'metaphysics.': 1, 'At': 1, 'its': 1, 'heart,': 1, 'philosopher-mathematician,': 1, 'Newton,': 1, 'English': 1, 'physicist-mathematician,': 1, 'out': 1, 'opposing': 1, 'theories': 1, 'is.': 1, 'Rather': 1, 'entity': 1, 'exists': 1, 'above': 1, 'matter,': 1, 'held': 1, 'world:': 1, 'results': 1, 'places': 1, 'taken': 1, 'together\".[5]': 1, 'Unoccupied': 1, 'regions': 1, 'those': 1, 'them,': 1, 'thus': 1, 'places.': 1, 'idealised': 1, 'abstraction': 1, 'individual': 1, 'entities': 1, 'locations': 1, 'continuous': 1, 'discrete.[6]': 1, 'similar': 1, 'members.': 1, 'Although': 1, 'people': 1, 'related': 1, 'another,': 1, 'do': 1, 'people.[7]': 1, 'because': 1, 'implies': 1, 'exactly': 1, 'alike': 1, 'except': 1, 'location': 1, 'each': 1, 'observational': 1, 'telling': 1, 'apart': 1, 'according': 1, 'identity': 1, 'indiscernibles,': 1, 'them.': 1, 'principle': 1, 'sufficient': 1, 'reason,': 1, 'implied': 1, 'wrong.[8]': 1, 'took': 1, 'based': 1, 'observation': 1, 'experimentation.': 1, 'relationist': 1, 'inertial': 1, 'object': 1, 'travels': 1, 'constant': 1, 'velocity,': 1, 'velocity': 1, 'changes': 1, 'measurements': 1, 'motions.': 1, 'generates': 1, 'forces,': 1, 'absolute.[9]': 1, 'He': 1, 'used': 1, 'example': 1, 'demonstrate': 1, 'argument.': 1, 'Water': 1, 'hung': 1, 'rope': 1, 'starts': 1, 'flat': 1, 'surface.': 1, 'After': 1, 'while,': 1, 'becomes': 1, 'concave.': 1, 'If': 1, \"bucket's\": 1, 'stopped': 1, 'remains': 1, 'spin.': 1, 'apparently': 1, 'water.[10]Instead,': 1, 'argued,': 1, 'itself.': 1, 'several': 1, 'centuries': 1, 'argument': 1, 'decisive': 1, 'showing': 1, 'matter.': 1, 'eighteenth': 1, 'century': 1, 'developed': 1, 'both': 1, 'synthetic.': 1, 'Kant,': 1, 'synthetic,': 1, 'statements': 1, 'simply': 1, 'true': 1, 'virtue': 1, 'meaning': 1, 'words': 1, 'statement.': 1, 'work,': 1, 'rejected': 1, 'view': 1, 'either': 1, 'substance': 1, 'relation.': 1, 'Instead': 1, 'he': 1, 'came': 1, 'conclusion': 1, 'discovered': 1, 'objective': 1, 'features': 1, 'world,': 1, 'imposed': 1, 'us': 1, 'organizing': 1, 'experience.': 1})\n",
      "\n"
     ]
    }
   ],
   "source": [
    "# your code here\n",
    "import collections\n",
    "counter = collections.Counter()\n",
    "path = ['./20_newsgroups/sci.space/file1.txt']\n",
    "path.append('./20_newsgroups/sci.space/file2.txt')\n",
    "path.append('./20_newsgroups/sci.space/file3.txt')\n",
    "path.append('./20_newsgroups/sci.space/file4.txt')\n",
    "path.append('./20_newsgroups/sci.space/file5.txt')\n",
    "for i in range(len(path)):\n",
    "    file = open(path[i], mode='r')\n",
    "    content = file.read()\n",
    "    for word in content.split():\n",
    "        counter[word] += 1\n",
    "    print(path[i][-9:])\n",
    "    print()\n",
    "    print(counter)\n",
    "    print()\n",
    "    \n"
   ]
  },
  {
   "cell_type": "markdown",
   "metadata": {
    "colab_type": "text",
    "id": "J8MWVZOW2d3L"
   },
   "source": [
    "-------------"
   ]
  },
  {
   "cell_type": "markdown",
   "metadata": {
    "colab_type": "text",
    "id": "sNRgMcED2d3L"
   },
   "source": [
    "### tqdm"
   ]
  },
  {
   "cell_type": "markdown",
   "metadata": {
    "colab_type": "text",
    "id": "nQn1_T4K2d3M"
   },
   "source": [
    "Удобный виджет для jupyter notebook, который позволяет отслеживать выполнение циклов"
   ]
  },
  {
   "cell_type": "markdown",
   "metadata": {
    "colab_type": "text",
    "id": "Jn4gCHDh2d3M"
   },
   "source": [
    "Установка:\n",
    "    \n",
    "1. Устанавливаем виджеты:\n",
    "\n",
    "    pip install ipywidgets\n",
    "    (или conda install -c conda-forge ipywidgets)\n",
    "\n",
    "2. Разрешаем их использование в Jupyter Notebook:\n",
    "\n",
    "    jupyter nbextension enable --py --sys-prefix widgetsnbextension\n",
    "\n",
    "3. Перезагружаем ядро (Restart Kernel)\n",
    "\n",
    "4. Устанавливаем tqdm:\n",
    "\n",
    "    pip install tqdm\n",
    "    (или conda install -c conda-forge tqdm)\n",
    "\n",
    "\n",
    "Больше про tqdm: https://pypi.python.org/pypi/tqdm"
   ]
  },
  {
   "cell_type": "code",
   "execution_count": 1,
   "metadata": {
    "colab": {},
    "colab_type": "code",
    "id": "ZU4bShoB2d3M"
   },
   "outputs": [],
   "source": [
    "from tqdm import tqdm\n",
    "from tqdm import tnrange, tqdm_notebook\n",
    "from time import sleep"
   ]
  },
  {
   "cell_type": "code",
   "execution_count": 2,
   "metadata": {
    "colab": {},
    "colab_type": "code",
    "id": "U3y7GtP32d3O"
   },
   "outputs": [
    {
     "name": "stderr",
     "output_type": "stream",
     "text": [
      "100%|██████████████████████████████████████████████████████████████████████████████| 1000/1000 [00:13<00:00, 74.17it/s]\n"
     ]
    }
   ],
   "source": [
    "# запустите ячейку, чтобы увидеть tqdm в действии\n",
    "cnt = 0\n",
    "for i in tqdm(range(1000)):\n",
    "    sleep(0.01)\n",
    "    cnt += 1"
   ]
  },
  {
   "cell_type": "code",
   "execution_count": 3,
   "metadata": {
    "colab": {},
    "colab_type": "code",
    "id": "gsEpE4Z32d3O"
   },
   "outputs": [
    {
     "data": {
      "application/vnd.jupyter.widget-view+json": {
       "model_id": "0a4c5bfdfe4a482e9d20b7f40505c9bf",
       "version_major": 2,
       "version_minor": 0
      },
      "text/plain": [
       "HBox(children=(IntProgress(value=0, description='1st loop', max=10, style=ProgressStyle(description_width='ini…"
      ]
     },
     "metadata": {},
     "output_type": "display_data"
    },
    {
     "data": {
      "application/vnd.jupyter.widget-view+json": {
       "model_id": "",
       "version_major": 2,
       "version_minor": 0
      },
      "text/plain": [
       "HBox(children=(IntProgress(value=0, description='2nd loop', style=ProgressStyle(description_width='initial')),…"
      ]
     },
     "metadata": {},
     "output_type": "display_data"
    },
    {
     "data": {
      "application/vnd.jupyter.widget-view+json": {
       "model_id": "",
       "version_major": 2,
       "version_minor": 0
      },
      "text/plain": [
       "HBox(children=(IntProgress(value=0, description='2nd loop', style=ProgressStyle(description_width='initial')),…"
      ]
     },
     "metadata": {},
     "output_type": "display_data"
    },
    {
     "data": {
      "application/vnd.jupyter.widget-view+json": {
       "model_id": "",
       "version_major": 2,
       "version_minor": 0
      },
      "text/plain": [
       "HBox(children=(IntProgress(value=0, description='2nd loop', style=ProgressStyle(description_width='initial')),…"
      ]
     },
     "metadata": {},
     "output_type": "display_data"
    },
    {
     "data": {
      "application/vnd.jupyter.widget-view+json": {
       "model_id": "",
       "version_major": 2,
       "version_minor": 0
      },
      "text/plain": [
       "HBox(children=(IntProgress(value=0, description='2nd loop', style=ProgressStyle(description_width='initial')),…"
      ]
     },
     "metadata": {},
     "output_type": "display_data"
    },
    {
     "data": {
      "application/vnd.jupyter.widget-view+json": {
       "model_id": "",
       "version_major": 2,
       "version_minor": 0
      },
      "text/plain": [
       "HBox(children=(IntProgress(value=0, description='2nd loop', style=ProgressStyle(description_width='initial')),…"
      ]
     },
     "metadata": {},
     "output_type": "display_data"
    },
    {
     "data": {
      "application/vnd.jupyter.widget-view+json": {
       "model_id": "",
       "version_major": 2,
       "version_minor": 0
      },
      "text/plain": [
       "HBox(children=(IntProgress(value=0, description='2nd loop', style=ProgressStyle(description_width='initial')),…"
      ]
     },
     "metadata": {},
     "output_type": "display_data"
    },
    {
     "data": {
      "application/vnd.jupyter.widget-view+json": {
       "model_id": "",
       "version_major": 2,
       "version_minor": 0
      },
      "text/plain": [
       "HBox(children=(IntProgress(value=0, description='2nd loop', style=ProgressStyle(description_width='initial')),…"
      ]
     },
     "metadata": {},
     "output_type": "display_data"
    },
    {
     "data": {
      "application/vnd.jupyter.widget-view+json": {
       "model_id": "",
       "version_major": 2,
       "version_minor": 0
      },
      "text/plain": [
       "HBox(children=(IntProgress(value=0, description='2nd loop', style=ProgressStyle(description_width='initial')),…"
      ]
     },
     "metadata": {},
     "output_type": "display_data"
    },
    {
     "data": {
      "application/vnd.jupyter.widget-view+json": {
       "model_id": "",
       "version_major": 2,
       "version_minor": 0
      },
      "text/plain": [
       "HBox(children=(IntProgress(value=0, description='2nd loop', style=ProgressStyle(description_width='initial')),…"
      ]
     },
     "metadata": {},
     "output_type": "display_data"
    },
    {
     "data": {
      "application/vnd.jupyter.widget-view+json": {
       "model_id": "",
       "version_major": 2,
       "version_minor": 0
      },
      "text/plain": [
       "HBox(children=(IntProgress(value=0, description='2nd loop', style=ProgressStyle(description_width='initial')),…"
      ]
     },
     "metadata": {},
     "output_type": "display_data"
    },
    {
     "name": "stdout",
     "output_type": "stream",
     "text": [
      "\n"
     ]
    }
   ],
   "source": [
    "# запустите ячейку, чтобы увидеть tqdm в действии\n",
    "for i in tnrange(10, desc='1st loop'):\n",
    "    for j in tqdm_notebook(range(100), desc='2nd loop', leave=False):\n",
    "        sleep(0.01)"
   ]
  },
  {
   "cell_type": "code",
   "execution_count": 26,
   "metadata": {
    "colab": {},
    "colab_type": "code",
    "id": "_JkaXrpd2d3P"
   },
   "outputs": [
    {
     "name": "stdout",
     "output_type": "stream",
     "text": [
      "\n",
      "The following command must be run outside of the IPython shell:\n",
      "\n",
      "    $ pip install ipywidgets\n",
      "\n",
      "The Python package manager (pip) can only be used from outside of IPython.\n",
      "Please reissue the `pip` command in a separate terminal or command prompt.\n",
      "\n",
      "See the Python documentation for more information on how to install packages:\n",
      "\n",
      "    https://docs.python.org/3/installing/\n"
     ]
    }
   ],
   "source": [
    "pip install ipywidgets"
   ]
  },
  {
   "cell_type": "code",
   "execution_count": null,
   "metadata": {},
   "outputs": [],
   "source": []
  }
 ],
 "metadata": {
  "colab": {
   "collapsed_sections": [
    "s6H55PRg2d1p",
    "6gAv4fNm2d2B",
    "N6Ns0rB52d2F",
    "ZaJTlEtC2d2Y",
    "AEP_z6nS8uzF",
    "VyZMMeIr2d2e",
    "XXPAkPSd2d2u",
    "cglQ6JNB2d2v",
    "jxfw8Oia2d2y",
    "KrCLYmVs2oqL",
    "ba4m15HQ2d3C",
    "4EVeUCtI2d3J",
    "sNRgMcED2d3L"
   ],
   "name": "python_extension.ipynb",
   "provenance": [],
   "version": "0.3.2"
  },
  "kernelspec": {
   "display_name": "Python 3",
   "language": "python",
   "name": "python3"
  },
  "language_info": {
   "codemirror_mode": {
    "name": "ipython",
    "version": 3
   },
   "file_extension": ".py",
   "mimetype": "text/x-python",
   "name": "python",
   "nbconvert_exporter": "python",
   "pygments_lexer": "ipython3",
   "version": "3.7.1"
  }
 },
 "nbformat": 4,
 "nbformat_minor": 1
}
